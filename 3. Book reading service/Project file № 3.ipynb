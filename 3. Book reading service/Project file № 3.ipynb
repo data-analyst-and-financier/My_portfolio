{
 "cells": [
  {
   "cell_type": "markdown",
   "metadata": {},
   "source": [
    "# Анализ данных онлайн-сервиса по чтению книг"
   ]
  },
  {
   "cell_type": "markdown",
   "metadata": {},
   "source": [
    "**Цель исследования** – провести анализ данных, содержащих информацию о книгах, с применением SQL-запросов.\n",
    "\n",
    "**Заказчики анализа** – владельцы сервиса для чтения книг по подписке (стартаперы).\n",
    "\n",
    "**Конечная цель исследования** – сформулировать ценностное предложение для нового продукта, а также подготовить ответы на следующие вопросы:\n",
    "- посчитать, сколько книг вышло после 1 января 2000 г. включительно,\n",
    "- посчитать для каждой книги количество обзоров и среднюю оценку,\n",
    "- определить издательство, выпуставшиее наибольшее число книг толще 50 страниц (все, что не больше 50 страниц, признается брошюрами), \n",
    "- определить автора с самой высокой средней оценкой книг, учитывая только книги с 50 и более оценками,\n",
    "- посчитайте среднее количество обзоров от пользователей, которые поставили больше 50 оценок.\n",
    "\n",
    "Для проведения анализа в нашем распоряжении имеются следующие пять таблиц:\n",
    "1) **`books`** – содержит данные о книгах:\n",
    "- `book_id` – идентификатор книги,\n",
    "- `author_id` – идентификатор автора,\n",
    "- `title` – название книги,\n",
    "- `num_pages` – количество страниц,\n",
    "- `publication_date` – дата публикации книги,\n",
    "- `publisher_id` – идентификатор издателя.\n",
    "\n",
    "2) **`authors`** – содержит данные об авторах:\n",
    "- `author_id` – идентификатор автора,\n",
    "- `author` – имя автора.\n",
    "\n",
    "3) **`publishers`** – содержит данные об издательствах:\n",
    "- `publisher_id` – идентификатор издательства,\n",
    "- `publisher` – название издательства.\n",
    "\n",
    "4) **`ratings`** – содержит данные о пользовательских оценках книг:\n",
    "- `rating_id` – идентификатор оценки,\n",
    "- `book_id` – идентификатор книги,\n",
    "- `username` – имя пользователя, оставившего оценку,\n",
    "- `rating` – оценка книги.\n",
    "\n",
    "5) **`reviews`** – содержит данные о пользовательских обзорах на книги:\n",
    "- `review_id` – идентификатор обзора;\n",
    "- `book_id` – идентификатор книги;\n",
    "- `username` – имя пользователя, написавшего обзор;\n",
    "- `text` – текст обзора.\n",
    "\n",
    "Схема базы данных сервиса доступна по [ссылке](https://drive.google.com/file/d/1kbkibJAnyWyeHheGAzjqcowvOiJt8gsb/view?usp=share_link)."
   ]
  },
  {
   "cell_type": "markdown",
   "metadata": {},
   "source": [
    "<h1>Содержание<span class=\"tocSkip\"></span></h1>\n",
    "<div class=\"toc\"><ul class=\"toc-item\"><li><span><a href=\"#Подключение-к-базе-данных\" data-toc-modified-id=\"Подключение-к-базе-данных-1\"><span class=\"toc-item-num\">1&nbsp;&nbsp;</span>Подключение к базе данных</a></span></li><li><span><a href=\"#Изучение-таблиц\" data-toc-modified-id=\"Изучение-таблиц-2\"><span class=\"toc-item-num\">2&nbsp;&nbsp;</span>Изучение таблиц</a></span></li><li><span><a href=\"#Анализ-данных-(ответы-на-поставленные-вопросы)\" data-toc-modified-id=\"Анализ-данных-(ответы-на-поставленные-вопросы)-3\"><span class=\"toc-item-num\">3&nbsp;&nbsp;</span>Анализ данных (ответы на поставленные вопросы)</a></span></li><li><span><a href=\"#Рекомендации-для-нового-продукта\" data-toc-modified-id=\"Рекомендации-для-нового-продукта-4\"><span class=\"toc-item-num\">4&nbsp;&nbsp;</span>Рекомендации для нового продукта</a></span></li></ul></div>"
   ]
  },
  {
   "cell_type": "markdown",
   "metadata": {},
   "source": [
    "## Подключение к базе данных"
   ]
  },
  {
   "cell_type": "markdown",
   "metadata": {},
   "source": [
    "Подключимся к базе данных сервиса."
   ]
  },
  {
   "cell_type": "code",
   "execution_count": 1,
   "metadata": {},
   "outputs": [],
   "source": [
    "# импортируем библиотеки\n",
    "import pandas as pd\n",
    "from sqlalchemy import text, create_engine\n",
    "\n",
    "# устанавливаем параметры\n",
    "db_config = {'user': 'praktikum_student', # имя пользователя\n",
    "'pwd': 'Sdf4$2;d-d30pp', # пароль\n",
    "'host': 'rc1b-wcoijxj3yxfsf3fs.mdb.yandexcloud.net',\n",
    "'port': 6432, # порт подключения\n",
    "'db': 'data-analyst-final-project-db'} # название базы данных\n",
    "connection_string = 'postgresql://{user}:{pwd}@{host}:{port}/{db}'.format(**db_config)\n",
    "\n",
    "# сохраняем коннектор\n",
    "engine = create_engine(connection_string, connect_args={'sslmode':'require'})\n",
    "\n",
    "con=engine.connect()"
   ]
  },
  {
   "cell_type": "markdown",
   "metadata": {},
   "source": [
    "## Изучение таблиц"
   ]
  },
  {
   "cell_type": "markdown",
   "metadata": {},
   "source": [
    "Изучим полученные таблицы, выведя первые пять строк и рассчитав количество уникальных значений в каждой из них."
   ]
  },
  {
   "cell_type": "code",
   "execution_count": 2,
   "metadata": {
    "scrolled": true
   },
   "outputs": [
    {
     "data": {
      "text/html": [
       "<div>\n",
       "<style scoped>\n",
       "    .dataframe tbody tr th:only-of-type {\n",
       "        vertical-align: middle;\n",
       "    }\n",
       "\n",
       "    .dataframe tbody tr th {\n",
       "        vertical-align: top;\n",
       "    }\n",
       "\n",
       "    .dataframe thead th {\n",
       "        text-align: right;\n",
       "    }\n",
       "</style>\n",
       "<table border=\"1\" class=\"dataframe\">\n",
       "  <thead>\n",
       "    <tr style=\"text-align: right;\">\n",
       "      <th></th>\n",
       "      <th>book_id</th>\n",
       "      <th>author_id</th>\n",
       "      <th>title</th>\n",
       "      <th>num_pages</th>\n",
       "      <th>publication_date</th>\n",
       "      <th>publisher_id</th>\n",
       "    </tr>\n",
       "  </thead>\n",
       "  <tbody>\n",
       "    <tr>\n",
       "      <th>0</th>\n",
       "      <td>1</td>\n",
       "      <td>546</td>\n",
       "      <td>'Salem's Lot</td>\n",
       "      <td>594</td>\n",
       "      <td>2005-11-01</td>\n",
       "      <td>93</td>\n",
       "    </tr>\n",
       "    <tr>\n",
       "      <th>1</th>\n",
       "      <td>2</td>\n",
       "      <td>465</td>\n",
       "      <td>1 000 Places to See Before You Die</td>\n",
       "      <td>992</td>\n",
       "      <td>2003-05-22</td>\n",
       "      <td>336</td>\n",
       "    </tr>\n",
       "    <tr>\n",
       "      <th>2</th>\n",
       "      <td>3</td>\n",
       "      <td>407</td>\n",
       "      <td>13 Little Blue Envelopes (Little Blue Envelope...</td>\n",
       "      <td>322</td>\n",
       "      <td>2010-12-21</td>\n",
       "      <td>135</td>\n",
       "    </tr>\n",
       "    <tr>\n",
       "      <th>3</th>\n",
       "      <td>4</td>\n",
       "      <td>82</td>\n",
       "      <td>1491: New Revelations of the Americas Before C...</td>\n",
       "      <td>541</td>\n",
       "      <td>2006-10-10</td>\n",
       "      <td>309</td>\n",
       "    </tr>\n",
       "    <tr>\n",
       "      <th>4</th>\n",
       "      <td>5</td>\n",
       "      <td>125</td>\n",
       "      <td>1776</td>\n",
       "      <td>386</td>\n",
       "      <td>2006-07-04</td>\n",
       "      <td>268</td>\n",
       "    </tr>\n",
       "  </tbody>\n",
       "</table>\n",
       "</div>"
      ],
      "text/plain": [
       "   book_id  author_id                                              title  \\\n",
       "0        1        546                                       'Salem's Lot   \n",
       "1        2        465                 1 000 Places to See Before You Die   \n",
       "2        3        407  13 Little Blue Envelopes (Little Blue Envelope...   \n",
       "3        4         82  1491: New Revelations of the Americas Before C...   \n",
       "4        5        125                                               1776   \n",
       "\n",
       "   num_pages publication_date  publisher_id  \n",
       "0        594       2005-11-01            93  \n",
       "1        992       2003-05-22           336  \n",
       "2        322       2010-12-21           135  \n",
       "3        541       2006-10-10           309  \n",
       "4        386       2006-07-04           268  "
      ]
     },
     "execution_count": 2,
     "metadata": {},
     "output_type": "execute_result"
    }
   ],
   "source": [
    "# выведем первые пять строк таблицы \"books\"\n",
    "query = '''\n",
    "        SELECT *\n",
    "        FROM books\n",
    "        LIMIT 5\n",
    "        '''\n",
    "\n",
    "pd.io.sql.read_sql(sql=text(query), con=con)"
   ]
  },
  {
   "cell_type": "code",
   "execution_count": 3,
   "metadata": {},
   "outputs": [
    {
     "data": {
      "text/html": [
       "<div>\n",
       "<style scoped>\n",
       "    .dataframe tbody tr th:only-of-type {\n",
       "        vertical-align: middle;\n",
       "    }\n",
       "\n",
       "    .dataframe tbody tr th {\n",
       "        vertical-align: top;\n",
       "    }\n",
       "\n",
       "    .dataframe thead th {\n",
       "        text-align: right;\n",
       "    }\n",
       "</style>\n",
       "<table border=\"1\" class=\"dataframe\">\n",
       "  <thead>\n",
       "    <tr style=\"text-align: right;\">\n",
       "      <th></th>\n",
       "      <th>book_counts</th>\n",
       "    </tr>\n",
       "  </thead>\n",
       "  <tbody>\n",
       "    <tr>\n",
       "      <th>0</th>\n",
       "      <td>1000</td>\n",
       "    </tr>\n",
       "  </tbody>\n",
       "</table>\n",
       "</div>"
      ],
      "text/plain": [
       "   book_counts\n",
       "0         1000"
      ]
     },
     "execution_count": 3,
     "metadata": {},
     "output_type": "execute_result"
    }
   ],
   "source": [
    "# посчитаем количество книг в таблице \"books\"\n",
    "query = '''\n",
    "        SELECT COUNT(DISTINCT book_id) AS book_counts\n",
    "        FROM books\n",
    "        '''\n",
    "\n",
    "pd.io.sql.read_sql(sql=text(query), con=con)"
   ]
  },
  {
   "cell_type": "code",
   "execution_count": 4,
   "metadata": {},
   "outputs": [
    {
     "data": {
      "text/html": [
       "<div>\n",
       "<style scoped>\n",
       "    .dataframe tbody tr th:only-of-type {\n",
       "        vertical-align: middle;\n",
       "    }\n",
       "\n",
       "    .dataframe tbody tr th {\n",
       "        vertical-align: top;\n",
       "    }\n",
       "\n",
       "    .dataframe thead th {\n",
       "        text-align: right;\n",
       "    }\n",
       "</style>\n",
       "<table border=\"1\" class=\"dataframe\">\n",
       "  <thead>\n",
       "    <tr style=\"text-align: right;\">\n",
       "      <th></th>\n",
       "      <th>author_id</th>\n",
       "      <th>author</th>\n",
       "    </tr>\n",
       "  </thead>\n",
       "  <tbody>\n",
       "    <tr>\n",
       "      <th>0</th>\n",
       "      <td>1</td>\n",
       "      <td>A.S. Byatt</td>\n",
       "    </tr>\n",
       "    <tr>\n",
       "      <th>1</th>\n",
       "      <td>2</td>\n",
       "      <td>Aesop/Laura Harris/Laura Gibbs</td>\n",
       "    </tr>\n",
       "    <tr>\n",
       "      <th>2</th>\n",
       "      <td>3</td>\n",
       "      <td>Agatha Christie</td>\n",
       "    </tr>\n",
       "    <tr>\n",
       "      <th>3</th>\n",
       "      <td>4</td>\n",
       "      <td>Alan Brennert</td>\n",
       "    </tr>\n",
       "    <tr>\n",
       "      <th>4</th>\n",
       "      <td>5</td>\n",
       "      <td>Alan Moore/David   Lloyd</td>\n",
       "    </tr>\n",
       "  </tbody>\n",
       "</table>\n",
       "</div>"
      ],
      "text/plain": [
       "   author_id                          author\n",
       "0          1                      A.S. Byatt\n",
       "1          2  Aesop/Laura Harris/Laura Gibbs\n",
       "2          3                 Agatha Christie\n",
       "3          4                   Alan Brennert\n",
       "4          5        Alan Moore/David   Lloyd"
      ]
     },
     "execution_count": 4,
     "metadata": {},
     "output_type": "execute_result"
    }
   ],
   "source": [
    "# выведем первые пять строк таблицы \"authors\"\n",
    "query = '''\n",
    "        SELECT *\n",
    "        FROM authors\n",
    "        LIMIT 5\n",
    "        '''\n",
    "\n",
    "pd.io.sql.read_sql(sql=text(query), con=con)"
   ]
  },
  {
   "cell_type": "code",
   "execution_count": 5,
   "metadata": {},
   "outputs": [
    {
     "data": {
      "text/html": [
       "<div>\n",
       "<style scoped>\n",
       "    .dataframe tbody tr th:only-of-type {\n",
       "        vertical-align: middle;\n",
       "    }\n",
       "\n",
       "    .dataframe tbody tr th {\n",
       "        vertical-align: top;\n",
       "    }\n",
       "\n",
       "    .dataframe thead th {\n",
       "        text-align: right;\n",
       "    }\n",
       "</style>\n",
       "<table border=\"1\" class=\"dataframe\">\n",
       "  <thead>\n",
       "    <tr style=\"text-align: right;\">\n",
       "      <th></th>\n",
       "      <th>author_counts</th>\n",
       "    </tr>\n",
       "  </thead>\n",
       "  <tbody>\n",
       "    <tr>\n",
       "      <th>0</th>\n",
       "      <td>636</td>\n",
       "    </tr>\n",
       "  </tbody>\n",
       "</table>\n",
       "</div>"
      ],
      "text/plain": [
       "   author_counts\n",
       "0            636"
      ]
     },
     "execution_count": 5,
     "metadata": {},
     "output_type": "execute_result"
    }
   ],
   "source": [
    "# посчитаем количество авторов в таблице \"author\"\n",
    "query = '''\n",
    "        SELECT COUNT(DISTINCT author_id) AS author_counts\n",
    "        FROM author\n",
    "        '''\n",
    "\n",
    "pd.io.sql.read_sql(sql=text(query), con=con)"
   ]
  },
  {
   "cell_type": "code",
   "execution_count": 6,
   "metadata": {},
   "outputs": [
    {
     "data": {
      "text/html": [
       "<div>\n",
       "<style scoped>\n",
       "    .dataframe tbody tr th:only-of-type {\n",
       "        vertical-align: middle;\n",
       "    }\n",
       "\n",
       "    .dataframe tbody tr th {\n",
       "        vertical-align: top;\n",
       "    }\n",
       "\n",
       "    .dataframe thead th {\n",
       "        text-align: right;\n",
       "    }\n",
       "</style>\n",
       "<table border=\"1\" class=\"dataframe\">\n",
       "  <thead>\n",
       "    <tr style=\"text-align: right;\">\n",
       "      <th></th>\n",
       "      <th>publisher_id</th>\n",
       "      <th>publisher</th>\n",
       "    </tr>\n",
       "  </thead>\n",
       "  <tbody>\n",
       "    <tr>\n",
       "      <th>0</th>\n",
       "      <td>1</td>\n",
       "      <td>Ace</td>\n",
       "    </tr>\n",
       "    <tr>\n",
       "      <th>1</th>\n",
       "      <td>2</td>\n",
       "      <td>Ace Book</td>\n",
       "    </tr>\n",
       "    <tr>\n",
       "      <th>2</th>\n",
       "      <td>3</td>\n",
       "      <td>Ace Books</td>\n",
       "    </tr>\n",
       "    <tr>\n",
       "      <th>3</th>\n",
       "      <td>4</td>\n",
       "      <td>Ace Hardcover</td>\n",
       "    </tr>\n",
       "    <tr>\n",
       "      <th>4</th>\n",
       "      <td>5</td>\n",
       "      <td>Addison Wesley Publishing Company</td>\n",
       "    </tr>\n",
       "  </tbody>\n",
       "</table>\n",
       "</div>"
      ],
      "text/plain": [
       "   publisher_id                          publisher\n",
       "0             1                                Ace\n",
       "1             2                           Ace Book\n",
       "2             3                          Ace Books\n",
       "3             4                      Ace Hardcover\n",
       "4             5  Addison Wesley Publishing Company"
      ]
     },
     "execution_count": 6,
     "metadata": {},
     "output_type": "execute_result"
    }
   ],
   "source": [
    "# выведем первые пять строк таблицы \"publisher\"\n",
    "query = '''\n",
    "        SELECT *\n",
    "        FROM publishers\n",
    "        LIMIT 5\n",
    "        '''\n",
    "\n",
    "pd.io.sql.read_sql(sql=text(query), con=con)"
   ]
  },
  {
   "cell_type": "code",
   "execution_count": 7,
   "metadata": {},
   "outputs": [
    {
     "data": {
      "text/html": [
       "<div>\n",
       "<style scoped>\n",
       "    .dataframe tbody tr th:only-of-type {\n",
       "        vertical-align: middle;\n",
       "    }\n",
       "\n",
       "    .dataframe tbody tr th {\n",
       "        vertical-align: top;\n",
       "    }\n",
       "\n",
       "    .dataframe thead th {\n",
       "        text-align: right;\n",
       "    }\n",
       "</style>\n",
       "<table border=\"1\" class=\"dataframe\">\n",
       "  <thead>\n",
       "    <tr style=\"text-align: right;\">\n",
       "      <th></th>\n",
       "      <th>publisher_counts</th>\n",
       "    </tr>\n",
       "  </thead>\n",
       "  <tbody>\n",
       "    <tr>\n",
       "      <th>0</th>\n",
       "      <td>340</td>\n",
       "    </tr>\n",
       "  </tbody>\n",
       "</table>\n",
       "</div>"
      ],
      "text/plain": [
       "   publisher_counts\n",
       "0               340"
      ]
     },
     "execution_count": 7,
     "metadata": {},
     "output_type": "execute_result"
    }
   ],
   "source": [
    "# посчитаем количество издательств в таблице \"publisher\"\n",
    "query = '''\n",
    "        SELECT COUNT(DISTINCT publisher_id) AS publisher_counts\n",
    "        FROM publishers\n",
    "        '''\n",
    "\n",
    "pd.io.sql.read_sql(sql=text(query), con=con)"
   ]
  },
  {
   "cell_type": "code",
   "execution_count": 8,
   "metadata": {},
   "outputs": [
    {
     "data": {
      "text/html": [
       "<div>\n",
       "<style scoped>\n",
       "    .dataframe tbody tr th:only-of-type {\n",
       "        vertical-align: middle;\n",
       "    }\n",
       "\n",
       "    .dataframe tbody tr th {\n",
       "        vertical-align: top;\n",
       "    }\n",
       "\n",
       "    .dataframe thead th {\n",
       "        text-align: right;\n",
       "    }\n",
       "</style>\n",
       "<table border=\"1\" class=\"dataframe\">\n",
       "  <thead>\n",
       "    <tr style=\"text-align: right;\">\n",
       "      <th></th>\n",
       "      <th>rating_id</th>\n",
       "      <th>book_id</th>\n",
       "      <th>username</th>\n",
       "      <th>rating</th>\n",
       "    </tr>\n",
       "  </thead>\n",
       "  <tbody>\n",
       "    <tr>\n",
       "      <th>0</th>\n",
       "      <td>1</td>\n",
       "      <td>1</td>\n",
       "      <td>ryanfranco</td>\n",
       "      <td>4</td>\n",
       "    </tr>\n",
       "    <tr>\n",
       "      <th>1</th>\n",
       "      <td>2</td>\n",
       "      <td>1</td>\n",
       "      <td>grantpatricia</td>\n",
       "      <td>2</td>\n",
       "    </tr>\n",
       "    <tr>\n",
       "      <th>2</th>\n",
       "      <td>3</td>\n",
       "      <td>1</td>\n",
       "      <td>brandtandrea</td>\n",
       "      <td>5</td>\n",
       "    </tr>\n",
       "    <tr>\n",
       "      <th>3</th>\n",
       "      <td>4</td>\n",
       "      <td>2</td>\n",
       "      <td>lorichen</td>\n",
       "      <td>3</td>\n",
       "    </tr>\n",
       "    <tr>\n",
       "      <th>4</th>\n",
       "      <td>5</td>\n",
       "      <td>2</td>\n",
       "      <td>mariokeller</td>\n",
       "      <td>2</td>\n",
       "    </tr>\n",
       "  </tbody>\n",
       "</table>\n",
       "</div>"
      ],
      "text/plain": [
       "   rating_id  book_id       username  rating\n",
       "0          1        1     ryanfranco       4\n",
       "1          2        1  grantpatricia       2\n",
       "2          3        1   brandtandrea       5\n",
       "3          4        2       lorichen       3\n",
       "4          5        2    mariokeller       2"
      ]
     },
     "execution_count": 8,
     "metadata": {},
     "output_type": "execute_result"
    }
   ],
   "source": [
    "# выведем первые пять строк таблицы \"ratings\"\n",
    "query = '''\n",
    "        SELECT *\n",
    "        FROM ratings\n",
    "        LIMIT 5\n",
    "        '''\n",
    "\n",
    "pd.io.sql.read_sql(sql=text(query), con=con)"
   ]
  },
  {
   "cell_type": "code",
   "execution_count": 9,
   "metadata": {},
   "outputs": [
    {
     "data": {
      "text/html": [
       "<div>\n",
       "<style scoped>\n",
       "    .dataframe tbody tr th:only-of-type {\n",
       "        vertical-align: middle;\n",
       "    }\n",
       "\n",
       "    .dataframe tbody tr th {\n",
       "        vertical-align: top;\n",
       "    }\n",
       "\n",
       "    .dataframe thead th {\n",
       "        text-align: right;\n",
       "    }\n",
       "</style>\n",
       "<table border=\"1\" class=\"dataframe\">\n",
       "  <thead>\n",
       "    <tr style=\"text-align: right;\">\n",
       "      <th></th>\n",
       "      <th>rating_counts</th>\n",
       "      <th>books_with_ratings_counts</th>\n",
       "      <th>username_counts</th>\n",
       "    </tr>\n",
       "  </thead>\n",
       "  <tbody>\n",
       "    <tr>\n",
       "      <th>0</th>\n",
       "      <td>6456</td>\n",
       "      <td>1000</td>\n",
       "      <td>160</td>\n",
       "    </tr>\n",
       "  </tbody>\n",
       "</table>\n",
       "</div>"
      ],
      "text/plain": [
       "   rating_counts  books_with_ratings_counts  username_counts\n",
       "0           6456                       1000              160"
      ]
     },
     "execution_count": 9,
     "metadata": {},
     "output_type": "execute_result"
    }
   ],
   "source": [
    "# посчитаем количество оценок в таблице \"ratings\", оставленных пользователями,\n",
    "# а также количество книг, имеющих такие оценки, и количество пользователей, поставивших оценку\n",
    "query = '''\n",
    "        SELECT COUNT(DISTINCT rating_id) AS rating_counts,\n",
    "               COUNT(DISTINCT book_id) AS books_with_ratings_counts,\n",
    "               COUNT(DISTINCT username) AS username_counts\n",
    "        FROM ratings\n",
    "        '''\n",
    "\n",
    "pd.io.sql.read_sql(sql=text(query), con=con)"
   ]
  },
  {
   "cell_type": "code",
   "execution_count": 10,
   "metadata": {},
   "outputs": [
    {
     "data": {
      "text/html": [
       "<div>\n",
       "<style scoped>\n",
       "    .dataframe tbody tr th:only-of-type {\n",
       "        vertical-align: middle;\n",
       "    }\n",
       "\n",
       "    .dataframe tbody tr th {\n",
       "        vertical-align: top;\n",
       "    }\n",
       "\n",
       "    .dataframe thead th {\n",
       "        text-align: right;\n",
       "    }\n",
       "</style>\n",
       "<table border=\"1\" class=\"dataframe\">\n",
       "  <thead>\n",
       "    <tr style=\"text-align: right;\">\n",
       "      <th></th>\n",
       "      <th>review_id</th>\n",
       "      <th>book_id</th>\n",
       "      <th>username</th>\n",
       "      <th>text</th>\n",
       "    </tr>\n",
       "  </thead>\n",
       "  <tbody>\n",
       "    <tr>\n",
       "      <th>0</th>\n",
       "      <td>1</td>\n",
       "      <td>1</td>\n",
       "      <td>brandtandrea</td>\n",
       "      <td>Mention society tell send professor analysis. ...</td>\n",
       "    </tr>\n",
       "    <tr>\n",
       "      <th>1</th>\n",
       "      <td>2</td>\n",
       "      <td>1</td>\n",
       "      <td>ryanfranco</td>\n",
       "      <td>Foot glass pretty audience hit themselves. Amo...</td>\n",
       "    </tr>\n",
       "    <tr>\n",
       "      <th>2</th>\n",
       "      <td>3</td>\n",
       "      <td>2</td>\n",
       "      <td>lorichen</td>\n",
       "      <td>Listen treat keep worry. Miss husband tax but ...</td>\n",
       "    </tr>\n",
       "    <tr>\n",
       "      <th>3</th>\n",
       "      <td>4</td>\n",
       "      <td>3</td>\n",
       "      <td>johnsonamanda</td>\n",
       "      <td>Finally month interesting blue could nature cu...</td>\n",
       "    </tr>\n",
       "    <tr>\n",
       "      <th>4</th>\n",
       "      <td>5</td>\n",
       "      <td>3</td>\n",
       "      <td>scotttamara</td>\n",
       "      <td>Nation purpose heavy give wait song will. List...</td>\n",
       "    </tr>\n",
       "  </tbody>\n",
       "</table>\n",
       "</div>"
      ],
      "text/plain": [
       "   review_id  book_id       username  \\\n",
       "0          1        1   brandtandrea   \n",
       "1          2        1     ryanfranco   \n",
       "2          3        2       lorichen   \n",
       "3          4        3  johnsonamanda   \n",
       "4          5        3    scotttamara   \n",
       "\n",
       "                                                text  \n",
       "0  Mention society tell send professor analysis. ...  \n",
       "1  Foot glass pretty audience hit themselves. Amo...  \n",
       "2  Listen treat keep worry. Miss husband tax but ...  \n",
       "3  Finally month interesting blue could nature cu...  \n",
       "4  Nation purpose heavy give wait song will. List...  "
      ]
     },
     "execution_count": 10,
     "metadata": {},
     "output_type": "execute_result"
    }
   ],
   "source": [
    "# выведем первые пять строк таблицы \"reviews\"\n",
    "query = '''\n",
    "        SELECT *\n",
    "        FROM reviews\n",
    "        LIMIT 5\n",
    "        '''\n",
    "\n",
    "pd.io.sql.read_sql(sql=text(query), con=con)"
   ]
  },
  {
   "cell_type": "code",
   "execution_count": 11,
   "metadata": {},
   "outputs": [
    {
     "data": {
      "text/html": [
       "<div>\n",
       "<style scoped>\n",
       "    .dataframe tbody tr th:only-of-type {\n",
       "        vertical-align: middle;\n",
       "    }\n",
       "\n",
       "    .dataframe tbody tr th {\n",
       "        vertical-align: top;\n",
       "    }\n",
       "\n",
       "    .dataframe thead th {\n",
       "        text-align: right;\n",
       "    }\n",
       "</style>\n",
       "<table border=\"1\" class=\"dataframe\">\n",
       "  <thead>\n",
       "    <tr style=\"text-align: right;\">\n",
       "      <th></th>\n",
       "      <th>review_counts</th>\n",
       "      <th>username_counts</th>\n",
       "      <th>books_with_review_counts</th>\n",
       "    </tr>\n",
       "  </thead>\n",
       "  <tbody>\n",
       "    <tr>\n",
       "      <th>0</th>\n",
       "      <td>2793</td>\n",
       "      <td>160</td>\n",
       "      <td>994</td>\n",
       "    </tr>\n",
       "  </tbody>\n",
       "</table>\n",
       "</div>"
      ],
      "text/plain": [
       "   review_counts  username_counts  books_with_review_counts\n",
       "0           2793              160                       994"
      ]
     },
     "execution_count": 11,
     "metadata": {},
     "output_type": "execute_result"
    }
   ],
   "source": [
    "# посчитаем количество обзоров в таблице \"reviews\", \n",
    "# а также количество пользователей, написавших обзоры на книги, \n",
    "# и количество книг, на которые были написаны обзоры\n",
    "query = '''\n",
    "        SELECT COUNT(DISTINCT review_id) AS review_counts,\n",
    "               COUNT(DISTINCT username) AS username_counts,\n",
    "               COUNT(DISTINCT book_id) AS books_with_review_counts\n",
    "        FROM reviews\n",
    "        '''\n",
    "\n",
    "pd.io.sql.read_sql(sql=text(query), con=con)"
   ]
  },
  {
   "cell_type": "markdown",
   "metadata": {},
   "source": [
    "**Краткие выводы**\n",
    "\n",
    "В базе данных сервиса для чтения книг по подписке содержатся 1000 книг, написанных 636 авторами. Все книги в базе данных имеют рейтинги от пользователей и практически на все из них пользователями были написаны обзоры – 994 из 1000. Все оценки и отзывы в сервисе принадлежат 160 пользователям.\n",
    "\n",
    "Чаще всего пользователи проставляют оценки книгам, чем пишут на них обзоры, – превышение первого показателя над вторым составляет 2.3 раза (или 6.5 тыс. против 2.8 тыс.). Тот, кто проставлял оценки в сервисе, хотя бы один раз написал обзор на ту или иную книгу.\n",
    "\n",
    "В базе данных представлено 340 издательств, которыми были выпущены те или иные книги, хранящиеся в сервисе."
   ]
  },
  {
   "cell_type": "markdown",
   "metadata": {},
   "source": [
    "## Анализ данных (ответы на поставленные вопросы)"
   ]
  },
  {
   "cell_type": "markdown",
   "metadata": {},
   "source": [
    "Посчитаем, сколько в базе данных хранится книг, изданных после 1 января 2000 г. включительно (`book_counts_after_2020`)."
   ]
  },
  {
   "cell_type": "code",
   "execution_count": 12,
   "metadata": {
    "scrolled": true
   },
   "outputs": [
    {
     "data": {
      "text/html": [
       "<div>\n",
       "<style scoped>\n",
       "    .dataframe tbody tr th:only-of-type {\n",
       "        vertical-align: middle;\n",
       "    }\n",
       "\n",
       "    .dataframe tbody tr th {\n",
       "        vertical-align: top;\n",
       "    }\n",
       "\n",
       "    .dataframe thead th {\n",
       "        text-align: right;\n",
       "    }\n",
       "</style>\n",
       "<table border=\"1\" class=\"dataframe\">\n",
       "  <thead>\n",
       "    <tr style=\"text-align: right;\">\n",
       "      <th></th>\n",
       "      <th>book_counts_after_2020</th>\n",
       "    </tr>\n",
       "  </thead>\n",
       "  <tbody>\n",
       "    <tr>\n",
       "      <th>0</th>\n",
       "      <td>821</td>\n",
       "    </tr>\n",
       "  </tbody>\n",
       "</table>\n",
       "</div>"
      ],
      "text/plain": [
       "   book_counts_after_2020\n",
       "0                     821"
      ]
     },
     "execution_count": 12,
     "metadata": {},
     "output_type": "execute_result"
    }
   ],
   "source": [
    "query = '''\n",
    "        SELECT COUNT(DISTINCT book_id) AS book_counts_after_2020\n",
    "        FROM books\n",
    "        WHERE publication_date >= '2000-01-01'\n",
    "        '''\n",
    "\n",
    "pd.io.sql.read_sql(sql=text(query), con=con)"
   ]
  },
  {
   "cell_type": "markdown",
   "metadata": {},
   "source": [
    "Посчитаем долю книг, изданных после 1 января 2000 г. включительно, среди всех книг, представленных в сервисе. Для корректности расчета добавим в `SELECT` умножение на `100.0` – чтобы конвертировать тип данных из `int` в `decimal`."
   ]
  },
  {
   "cell_type": "code",
   "execution_count": 13,
   "metadata": {},
   "outputs": [
    {
     "data": {
      "text/html": [
       "<div>\n",
       "<style scoped>\n",
       "    .dataframe tbody tr th:only-of-type {\n",
       "        vertical-align: middle;\n",
       "    }\n",
       "\n",
       "    .dataframe tbody tr th {\n",
       "        vertical-align: top;\n",
       "    }\n",
       "\n",
       "    .dataframe thead th {\n",
       "        text-align: right;\n",
       "    }\n",
       "</style>\n",
       "<table border=\"1\" class=\"dataframe\">\n",
       "  <thead>\n",
       "    <tr style=\"text-align: right;\">\n",
       "      <th></th>\n",
       "      <th>books_percent</th>\n",
       "    </tr>\n",
       "  </thead>\n",
       "  <tbody>\n",
       "    <tr>\n",
       "      <th>0</th>\n",
       "      <td>82.0</td>\n",
       "    </tr>\n",
       "  </tbody>\n",
       "</table>\n",
       "</div>"
      ],
      "text/plain": [
       "   books_percent\n",
       "0           82.0"
      ]
     },
     "execution_count": 13,
     "metadata": {},
     "output_type": "execute_result"
    }
   ],
   "source": [
    "query = '''\n",
    "        SELECT ROUND((COUNT(DISTINCT book_id)) * 100.0 / (SELECT COUNT(DISTINCT book_id) FROM books)) AS books_percent\n",
    "        FROM books\n",
    "        WHERE publication_date > '2000-01-01'\n",
    "        '''\n",
    "\n",
    "pd.io.sql.read_sql(sql=text(query), con=con)"
   ]
  },
  {
   "cell_type": "markdown",
   "metadata": {},
   "source": [
    "Посчитаем для каждой книги среднюю оценку (`average_rating`) и количество обзоров (`review_counts`). Значение средней оценки округлим до двух знаков после запятой, а выводимый на экран результат отсортируем по возрастанию – по значениям `average_rating` и `review_counts` соответственно."
   ]
  },
  {
   "cell_type": "code",
   "execution_count": 14,
   "metadata": {
    "scrolled": true
   },
   "outputs": [
    {
     "data": {
      "text/html": [
       "<div>\n",
       "<style scoped>\n",
       "    .dataframe tbody tr th:only-of-type {\n",
       "        vertical-align: middle;\n",
       "    }\n",
       "\n",
       "    .dataframe tbody tr th {\n",
       "        vertical-align: top;\n",
       "    }\n",
       "\n",
       "    .dataframe thead th {\n",
       "        text-align: right;\n",
       "    }\n",
       "</style>\n",
       "<table border=\"1\" class=\"dataframe\">\n",
       "  <thead>\n",
       "    <tr style=\"text-align: right;\">\n",
       "      <th></th>\n",
       "      <th>book_id</th>\n",
       "      <th>title</th>\n",
       "      <th>average_rating</th>\n",
       "      <th>review_counts</th>\n",
       "    </tr>\n",
       "  </thead>\n",
       "  <tbody>\n",
       "    <tr>\n",
       "      <th>0</th>\n",
       "      <td>303</td>\n",
       "      <td>Harvesting the Heart</td>\n",
       "      <td>1.50</td>\n",
       "      <td>2</td>\n",
       "    </tr>\n",
       "    <tr>\n",
       "      <th>1</th>\n",
       "      <td>316</td>\n",
       "      <td>His Excellency: George Washington</td>\n",
       "      <td>2.00</td>\n",
       "      <td>2</td>\n",
       "    </tr>\n",
       "    <tr>\n",
       "      <th>2</th>\n",
       "      <td>371</td>\n",
       "      <td>Junky</td>\n",
       "      <td>2.00</td>\n",
       "      <td>2</td>\n",
       "    </tr>\n",
       "    <tr>\n",
       "      <th>3</th>\n",
       "      <td>202</td>\n",
       "      <td>Drowning Ruth</td>\n",
       "      <td>2.00</td>\n",
       "      <td>3</td>\n",
       "    </tr>\n",
       "    <tr>\n",
       "      <th>4</th>\n",
       "      <td>915</td>\n",
       "      <td>The World Is Flat: A Brief History of the Twen...</td>\n",
       "      <td>2.25</td>\n",
       "      <td>3</td>\n",
       "    </tr>\n",
       "    <tr>\n",
       "      <th>...</th>\n",
       "      <td>...</td>\n",
       "      <td>...</td>\n",
       "      <td>...</td>\n",
       "      <td>...</td>\n",
       "    </tr>\n",
       "    <tr>\n",
       "      <th>995</th>\n",
       "      <td>76</td>\n",
       "      <td>Angels Fall</td>\n",
       "      <td>5.00</td>\n",
       "      <td>2</td>\n",
       "    </tr>\n",
       "    <tr>\n",
       "      <th>996</th>\n",
       "      <td>913</td>\n",
       "      <td>The Woman in Black</td>\n",
       "      <td>5.00</td>\n",
       "      <td>2</td>\n",
       "    </tr>\n",
       "    <tr>\n",
       "      <th>997</th>\n",
       "      <td>444</td>\n",
       "      <td>Moneyball: The Art of Winning an Unfair Game</td>\n",
       "      <td>5.00</td>\n",
       "      <td>3</td>\n",
       "    </tr>\n",
       "    <tr>\n",
       "      <th>998</th>\n",
       "      <td>553</td>\n",
       "      <td>School's Out—Forever (Maximum Ride  #2)</td>\n",
       "      <td>5.00</td>\n",
       "      <td>3</td>\n",
       "    </tr>\n",
       "    <tr>\n",
       "      <th>999</th>\n",
       "      <td>17</td>\n",
       "      <td>A Dirty Job (Grim Reaper  #1)</td>\n",
       "      <td>5.00</td>\n",
       "      <td>4</td>\n",
       "    </tr>\n",
       "  </tbody>\n",
       "</table>\n",
       "<p>1000 rows × 4 columns</p>\n",
       "</div>"
      ],
      "text/plain": [
       "     book_id                                              title  \\\n",
       "0        303                               Harvesting the Heart   \n",
       "1        316                  His Excellency: George Washington   \n",
       "2        371                                              Junky   \n",
       "3        202                                      Drowning Ruth   \n",
       "4        915  The World Is Flat: A Brief History of the Twen...   \n",
       "..       ...                                                ...   \n",
       "995       76                                        Angels Fall   \n",
       "996      913                                 The Woman in Black   \n",
       "997      444       Moneyball: The Art of Winning an Unfair Game   \n",
       "998      553            School's Out—Forever (Maximum Ride  #2)   \n",
       "999       17                      A Dirty Job (Grim Reaper  #1)   \n",
       "\n",
       "     average_rating  review_counts  \n",
       "0              1.50              2  \n",
       "1              2.00              2  \n",
       "2              2.00              2  \n",
       "3              2.00              3  \n",
       "4              2.25              3  \n",
       "..              ...            ...  \n",
       "995            5.00              2  \n",
       "996            5.00              2  \n",
       "997            5.00              3  \n",
       "998            5.00              3  \n",
       "999            5.00              4  \n",
       "\n",
       "[1000 rows x 4 columns]"
      ]
     },
     "execution_count": 14,
     "metadata": {},
     "output_type": "execute_result"
    }
   ],
   "source": [
    "query = '''\n",
    "        SELECT b.book_id, b.title,\n",
    "               ROUND(AVG(rat.rating), 2) AS average_rating,\n",
    "               COUNT(DISTINCT rev.review_id) AS review_counts\n",
    "        FROM books AS b\n",
    "        LEFT JOIN ratings AS rat on b.book_id = rat.book_id\n",
    "        LEFT JOIN reviews AS rev on b.book_id = rev.book_id\n",
    "        GROUP BY b.book_id, \n",
    "                 b.title\n",
    "        ORDER BY 3,\n",
    "                 4\n",
    "        '''\n",
    "\n",
    "pd.io.sql.read_sql(sql=text(query), con=con)"
   ]
  },
  {
   "cell_type": "markdown",
   "metadata": {},
   "source": [
    "Проверим количество книг в базе данных, не имеющих ни одного обзора, – таковых должно быть 6 шт."
   ]
  },
  {
   "cell_type": "code",
   "execution_count": 15,
   "metadata": {},
   "outputs": [
    {
     "data": {
      "text/html": [
       "<div>\n",
       "<style scoped>\n",
       "    .dataframe tbody tr th:only-of-type {\n",
       "        vertical-align: middle;\n",
       "    }\n",
       "\n",
       "    .dataframe tbody tr th {\n",
       "        vertical-align: top;\n",
       "    }\n",
       "\n",
       "    .dataframe thead th {\n",
       "        text-align: right;\n",
       "    }\n",
       "</style>\n",
       "<table border=\"1\" class=\"dataframe\">\n",
       "  <thead>\n",
       "    <tr style=\"text-align: right;\">\n",
       "      <th></th>\n",
       "      <th>book_id</th>\n",
       "      <th>average_rating</th>\n",
       "      <th>review_counts</th>\n",
       "    </tr>\n",
       "  </thead>\n",
       "  <tbody>\n",
       "    <tr>\n",
       "      <th>0</th>\n",
       "      <td>808</td>\n",
       "      <td>3.00</td>\n",
       "      <td>0</td>\n",
       "    </tr>\n",
       "    <tr>\n",
       "      <th>1</th>\n",
       "      <td>83</td>\n",
       "      <td>3.67</td>\n",
       "      <td>0</td>\n",
       "    </tr>\n",
       "    <tr>\n",
       "      <th>2</th>\n",
       "      <td>221</td>\n",
       "      <td>4.00</td>\n",
       "      <td>0</td>\n",
       "    </tr>\n",
       "    <tr>\n",
       "      <th>3</th>\n",
       "      <td>387</td>\n",
       "      <td>4.00</td>\n",
       "      <td>0</td>\n",
       "    </tr>\n",
       "    <tr>\n",
       "      <th>4</th>\n",
       "      <td>191</td>\n",
       "      <td>4.00</td>\n",
       "      <td>0</td>\n",
       "    </tr>\n",
       "    <tr>\n",
       "      <th>5</th>\n",
       "      <td>672</td>\n",
       "      <td>5.00</td>\n",
       "      <td>0</td>\n",
       "    </tr>\n",
       "  </tbody>\n",
       "</table>\n",
       "</div>"
      ],
      "text/plain": [
       "   book_id  average_rating  review_counts\n",
       "0      808            3.00              0\n",
       "1       83            3.67              0\n",
       "2      221            4.00              0\n",
       "3      387            4.00              0\n",
       "4      191            4.00              0\n",
       "5      672            5.00              0"
      ]
     },
     "execution_count": 15,
     "metadata": {},
     "output_type": "execute_result"
    }
   ],
   "source": [
    "query = '''\n",
    "        WITH\n",
    "        table_one AS \n",
    "        (SELECT b.book_id,\n",
    "                ROUND(AVG(rat.rating), 2) AS average_rating,\n",
    "                COUNT(rev.review_id) AS review_counts\n",
    "        FROM books AS b\n",
    "        LEFT JOIN ratings AS rat on b.book_id = rat.book_id\n",
    "        LEFT JOIN reviews AS rev on b.book_id = rev.book_id\n",
    "        GROUP BY b.book_id\n",
    "        ORDER BY 2,\n",
    "                 3)\n",
    "                 \n",
    "        SELECT *\n",
    "        FROM table_one\n",
    "        WHERE review_counts = 0\n",
    "        '''\n",
    "\n",
    "pd.io.sql.read_sql(sql=text(query), con=con)"
   ]
  },
  {
   "cell_type": "markdown",
   "metadata": {},
   "source": [
    "Определим издательство (`publisher_with_the_most_books`), выпустившее наибольшее число книг толще 50 страниц (книги, содержащие менее 50 страниц, признаны брошюрами)."
   ]
  },
  {
   "cell_type": "code",
   "execution_count": 16,
   "metadata": {},
   "outputs": [
    {
     "data": {
      "text/html": [
       "<div>\n",
       "<style scoped>\n",
       "    .dataframe tbody tr th:only-of-type {\n",
       "        vertical-align: middle;\n",
       "    }\n",
       "\n",
       "    .dataframe tbody tr th {\n",
       "        vertical-align: top;\n",
       "    }\n",
       "\n",
       "    .dataframe thead th {\n",
       "        text-align: right;\n",
       "    }\n",
       "</style>\n",
       "<table border=\"1\" class=\"dataframe\">\n",
       "  <thead>\n",
       "    <tr style=\"text-align: right;\">\n",
       "      <th></th>\n",
       "      <th>publisher_with_the_most_books</th>\n",
       "      <th>book_counts</th>\n",
       "    </tr>\n",
       "  </thead>\n",
       "  <tbody>\n",
       "    <tr>\n",
       "      <th>0</th>\n",
       "      <td>Penguin Books</td>\n",
       "      <td>42</td>\n",
       "    </tr>\n",
       "  </tbody>\n",
       "</table>\n",
       "</div>"
      ],
      "text/plain": [
       "  publisher_with_the_most_books  book_counts\n",
       "0                 Penguin Books           42"
      ]
     },
     "execution_count": 16,
     "metadata": {},
     "output_type": "execute_result"
    }
   ],
   "source": [
    "query = '''\n",
    "        SELECT publisher AS publisher_with_the_most_books,\n",
    "               COUNT(b.book_id) AS book_counts\n",
    "        FROM books AS b\n",
    "        LEFT JOIN publishers AS p USING(publisher_id)\n",
    "        WHERE num_pages > 50\n",
    "        GROUP BY p.publisher\n",
    "        ORDER BY 2 DESC\n",
    "        LIMIT 1\n",
    "        '''\n",
    "pd.io.sql.read_sql(sql=text(query), con = con)"
   ]
  },
  {
   "cell_type": "markdown",
   "metadata": {},
   "source": [
    "Определим автора с самой высокой средней оценкой книг (`most_popular_author`) – с учетом книг, которые имеют не менее 50 оценок.\n",
    "\n",
    "Для этого на первом этапе составим список книг, имеющих 50 и более оценок, – всего таких книг в базе данных 19 шт. Затем соберем таблицу с информацией об авторах этих книг, принадлежащих им рейтингах, рассчитаем средние значения рейтинга, округленные до двух знаков после запятой, а в конечный результат выведем название самого популярного автора и значение его среднего рейтинга."
   ]
  },
  {
   "cell_type": "code",
   "execution_count": 17,
   "metadata": {},
   "outputs": [
    {
     "data": {
      "text/html": [
       "<div>\n",
       "<style scoped>\n",
       "    .dataframe tbody tr th:only-of-type {\n",
       "        vertical-align: middle;\n",
       "    }\n",
       "\n",
       "    .dataframe tbody tr th {\n",
       "        vertical-align: top;\n",
       "    }\n",
       "\n",
       "    .dataframe thead th {\n",
       "        text-align: right;\n",
       "    }\n",
       "</style>\n",
       "<table border=\"1\" class=\"dataframe\">\n",
       "  <thead>\n",
       "    <tr style=\"text-align: right;\">\n",
       "      <th></th>\n",
       "      <th>most_popular_author</th>\n",
       "      <th>max_average_rating</th>\n",
       "    </tr>\n",
       "  </thead>\n",
       "  <tbody>\n",
       "    <tr>\n",
       "      <th>0</th>\n",
       "      <td>J.K. Rowling/Mary GrandPré</td>\n",
       "      <td>4.29</td>\n",
       "    </tr>\n",
       "  </tbody>\n",
       "</table>\n",
       "</div>"
      ],
      "text/plain": [
       "          most_popular_author  max_average_rating\n",
       "0  J.K. Rowling/Mary GrandPré                4.29"
      ]
     },
     "execution_count": 17,
     "metadata": {},
     "output_type": "execute_result"
    }
   ],
   "source": [
    "query = '''\n",
    "        WITH\n",
    "        table_one AS\n",
    "        (SELECT book_id\n",
    "        FROM (SELECT b.book_id, \n",
    "                     COUNT(r.rating) AS rating_counts\n",
    "              FROM books AS b\n",
    "              LEFT JOIN ratings AS r USING(book_id)\n",
    "              GROUP BY b.book_id \n",
    "              HAVING COUNT(r.rating) >= 50) AS subtable_one)\n",
    "                          \n",
    "        SELECT author AS most_popular_author, \n",
    "               ROUND(AVG(rating), 2) AS max_average_rating\n",
    "        FROM table_one AS tone\n",
    "        JOIN books AS b USING(book_id)\n",
    "        JOIN authors AS a USING(author_id)\n",
    "        JOIN ratings AS r USING(book_id)\n",
    "        GROUP BY author\n",
    "        ORDER BY 2 DESC\n",
    "        LIMIT 1\n",
    "        '''\n",
    "\n",
    "pd.io.sql.read_sql(sql=text(query), con=con)"
   ]
  },
  {
   "cell_type": "markdown",
   "metadata": {},
   "source": [
    "Посчитаем среднее количество обзоров от пользователей, оставивших более 50 оценок (`username_average_review`). \n",
    "\n",
    "Для этого сначала отберем всех пользователей из таблицы `ratings`, поставивших более 50 оценок, – всего таковых в базе данных 6. После этого посчитаем количество написанных каждым таким пользователем обзоров и на их основе рассчитаем требуемое среднее количество обзоров."
   ]
  },
  {
   "cell_type": "code",
   "execution_count": 18,
   "metadata": {
    "scrolled": true
   },
   "outputs": [
    {
     "data": {
      "text/html": [
       "<div>\n",
       "<style scoped>\n",
       "    .dataframe tbody tr th:only-of-type {\n",
       "        vertical-align: middle;\n",
       "    }\n",
       "\n",
       "    .dataframe tbody tr th {\n",
       "        vertical-align: top;\n",
       "    }\n",
       "\n",
       "    .dataframe thead th {\n",
       "        text-align: right;\n",
       "    }\n",
       "</style>\n",
       "<table border=\"1\" class=\"dataframe\">\n",
       "  <thead>\n",
       "    <tr style=\"text-align: right;\">\n",
       "      <th></th>\n",
       "      <th>username_average_review</th>\n",
       "    </tr>\n",
       "  </thead>\n",
       "  <tbody>\n",
       "    <tr>\n",
       "      <th>0</th>\n",
       "      <td>24.0</td>\n",
       "    </tr>\n",
       "  </tbody>\n",
       "</table>\n",
       "</div>"
      ],
      "text/plain": [
       "   username_average_review\n",
       "0                     24.0"
      ]
     },
     "execution_count": 18,
     "metadata": {},
     "output_type": "execute_result"
    }
   ],
   "source": [
    "query = '''\n",
    "        WITH\n",
    "        table_one AS\n",
    "        (SELECT username\n",
    "        FROM (SELECT username,\n",
    "                     COUNT(rating_id) AS rating\n",
    "              FROM ratings\n",
    "              GROUP BY username\n",
    "              HAVING COUNT(rating_id) > 50) AS subtable_two),\n",
    "        \n",
    "        table_two AS \n",
    "        (SELECT username,\n",
    "                COUNT(review_id) AS review_counts\n",
    "        FROM table_one AS tone\n",
    "        JOIN reviews AS r USING(username)\n",
    "        GROUP BY username) \n",
    "        \n",
    "        SELECT ROUND(AVG(review_counts)) AS username_average_review\n",
    "        FROM table_two\n",
    "        '''\n",
    "\n",
    "pd.io.sql.read_sql(sql=text(query), con=con)"
   ]
  },
  {
   "cell_type": "markdown",
   "metadata": {},
   "source": [
    "**Краткие выводы**\n",
    "\n",
    "82% всех книг, имеющихся в сервисе, были выпущены после 1 января 2000 г. включительно. Средняя оценка книг находится в промежутке от 1.5 до 5, а количество написанных обзоров на одну книгу – от 0 до 7 (при этом, как было отмечено ранее, 0.06% книг в сервисе не имеют ни одной рецензии). \n",
    "\n",
    "Самым популярным издательством в сервисе является `Penguin Books`, которое выпустило 42 книги. `J.K. Rowling` (совместно с иллюстратором ее книг `Mary GrandPré`) стала самым популярным автором – её книги имеют максимальный рейтинг (4.29).\n",
    "\n",
    "В среднем самые активные пользователи сервиса, поставившие более 50 оценок, пишут по 24 рецензии."
   ]
  },
  {
   "cell_type": "markdown",
   "metadata": {},
   "source": [
    "## Рекомендации для нового продукта"
   ]
  },
  {
   "cell_type": "markdown",
   "metadata": {},
   "source": [
    "Ограниченность имеющихся данных и проведенных расчетов не позволяют сформировать качественное ценностное предложение для нового продукта. В первую очередь, необходимо получше узнать сервис для чтения по подписке – категории и форматы представленных книг, количество имеющихся подписок, их варианты и цены на них, наличие мобильного приложения и его функциональные возможности. \n",
    "\n",
    "Одназначно можно сказать, что в сервисе, скорей всего, пока недостаточно книг для удовлетворения потребностей самых разных пользователей. Поэтому, в первую очередь, менеджменту стартапа рекомендуется увеличить ассортимент и тематику книг, изданных разными издательствами (в том числе переводная литература, если речь идет о российском стартапе). Вторая рекомендация состоит в настройке рекламной кампании (в том числе онлайн-подключения с авторами книг и рубрикой «вопрос-ответ») – поскольку стартапы, как правило, малоизвестны публике. \n",
    "\n",
    "Также менеджменту можно рекомендовать создание программы лояльности для подписчиков сервиса. Например, ввести вознаграждение за оставленный отзыв (такая [программа](https://www.chitai-gorod.ru/bookwatch) есть, например, в сети книжных магазинов «Читай-город»). Такие действия могут привлечь новых подписчиков или расширить варианты подписок имеющихся пользователей, поскольку книги с высокими оценками и большим количеством отзывов – благодаря потребительскому поведению и действию социального доказательства – чаще остальных привлекают внимание."
   ]
  }
 ],
 "metadata": {
  "ExecuteTimeLog": [
   {
    "duration": 5347,
    "start_time": "2023-05-08T08:35:46.347Z"
   },
   {
    "duration": 208,
    "start_time": "2023-05-08T08:36:13.683Z"
   },
   {
    "duration": 213,
    "start_time": "2023-05-08T08:36:42.970Z"
   },
   {
    "duration": 78,
    "start_time": "2023-05-08T08:37:10.153Z"
   },
   {
    "duration": 87,
    "start_time": "2023-05-08T08:38:28.951Z"
   },
   {
    "duration": 45,
    "start_time": "2023-05-08T08:38:37.999Z"
   },
   {
    "duration": 3,
    "start_time": "2023-05-08T08:39:24.966Z"
   },
   {
    "duration": 28,
    "start_time": "2023-05-08T08:39:31.837Z"
   },
   {
    "duration": 52,
    "start_time": "2023-05-08T08:46:47.731Z"
   },
   {
    "duration": 57,
    "start_time": "2023-05-08T08:47:05.243Z"
   },
   {
    "duration": 40,
    "start_time": "2023-05-08T08:47:31.570Z"
   },
   {
    "duration": 50,
    "start_time": "2023-05-08T08:47:55.265Z"
   },
   {
    "duration": 58,
    "start_time": "2023-05-08T08:48:02.721Z"
   },
   {
    "duration": 58,
    "start_time": "2023-05-08T08:48:11.497Z"
   },
   {
    "duration": 58,
    "start_time": "2023-05-08T08:48:25.681Z"
   },
   {
    "duration": 65,
    "start_time": "2023-05-08T08:48:28.344Z"
   },
   {
    "duration": 57,
    "start_time": "2023-05-08T08:49:07.305Z"
   },
   {
    "duration": 58,
    "start_time": "2023-05-08T08:49:20.048Z"
   },
   {
    "duration": 46,
    "start_time": "2023-05-08T08:49:48.551Z"
   },
   {
    "duration": 65,
    "start_time": "2023-05-08T08:49:59.942Z"
   },
   {
    "duration": 57,
    "start_time": "2023-05-08T08:50:07.367Z"
   },
   {
    "duration": 57,
    "start_time": "2023-05-08T08:50:23.477Z"
   },
   {
    "duration": 47,
    "start_time": "2023-05-08T08:50:47.645Z"
   },
   {
    "duration": 38,
    "start_time": "2023-05-08T08:50:53.829Z"
   },
   {
    "duration": 28,
    "start_time": "2023-05-08T09:00:56.302Z"
   },
   {
    "duration": 47,
    "start_time": "2023-05-08T09:03:46.953Z"
   },
   {
    "duration": 123,
    "start_time": "2023-05-08T09:03:59.657Z"
   },
   {
    "duration": 56,
    "start_time": "2023-05-08T09:04:36.176Z"
   },
   {
    "duration": 109,
    "start_time": "2023-05-08T09:04:52.343Z"
   },
   {
    "duration": 149,
    "start_time": "2023-05-08T09:04:59.447Z"
   },
   {
    "duration": 110,
    "start_time": "2023-05-08T09:05:04.167Z"
   },
   {
    "duration": 31,
    "start_time": "2023-05-08T09:05:14.719Z"
   },
   {
    "duration": 105,
    "start_time": "2023-05-08T09:05:23.895Z"
   },
   {
    "duration": 318,
    "start_time": "2023-05-08T09:06:22.406Z"
   },
   {
    "duration": 47,
    "start_time": "2023-05-08T09:07:28.764Z"
   },
   {
    "duration": 66,
    "start_time": "2023-05-08T09:07:38.245Z"
   },
   {
    "duration": 48,
    "start_time": "2023-05-08T09:08:13.250Z"
   },
   {
    "duration": 41,
    "start_time": "2023-05-08T09:08:22.210Z"
   },
   {
    "duration": 29,
    "start_time": "2023-05-08T09:09:01.513Z"
   },
   {
    "duration": 309,
    "start_time": "2023-05-08T09:09:12.291Z"
   },
   {
    "duration": 47,
    "start_time": "2023-05-08T09:09:35.321Z"
   },
   {
    "duration": 50,
    "start_time": "2023-05-08T09:10:37.991Z"
   },
   {
    "duration": 61,
    "start_time": "2023-05-08T09:10:44.343Z"
   },
   {
    "duration": 51,
    "start_time": "2023-05-08T09:10:59.046Z"
   },
   {
    "duration": 338,
    "start_time": "2023-05-08T09:15:00.939Z"
   },
   {
    "duration": 32,
    "start_time": "2023-05-08T09:15:28.920Z"
   },
   {
    "duration": 33,
    "start_time": "2023-05-08T09:15:46.662Z"
   },
   {
    "duration": 28,
    "start_time": "2023-05-08T09:17:07.349Z"
   },
   {
    "duration": 30,
    "start_time": "2023-05-08T09:17:48.437Z"
   },
   {
    "duration": 52,
    "start_time": "2023-05-08T09:18:54.874Z"
   },
   {
    "duration": 59,
    "start_time": "2023-05-08T09:19:08.475Z"
   },
   {
    "duration": 32,
    "start_time": "2023-05-08T09:19:23.218Z"
   },
   {
    "duration": 33,
    "start_time": "2023-05-08T09:19:30.425Z"
   },
   {
    "duration": 31,
    "start_time": "2023-05-08T09:20:09.849Z"
   },
   {
    "duration": 32,
    "start_time": "2023-05-08T09:20:17.112Z"
   },
   {
    "duration": 30,
    "start_time": "2023-05-08T09:23:39.123Z"
   },
   {
    "duration": 30,
    "start_time": "2023-05-08T09:23:44.468Z"
   },
   {
    "duration": 48,
    "start_time": "2023-05-08T09:23:52.267Z"
   },
   {
    "duration": 40,
    "start_time": "2023-05-08T09:23:56.107Z"
   },
   {
    "duration": 29,
    "start_time": "2023-05-08T09:27:36.646Z"
   },
   {
    "duration": 29,
    "start_time": "2023-05-08T09:27:52.637Z"
   },
   {
    "duration": 31,
    "start_time": "2023-05-08T09:28:17.644Z"
   },
   {
    "duration": 30,
    "start_time": "2023-05-08T09:28:21.460Z"
   },
   {
    "duration": 30,
    "start_time": "2023-05-08T09:32:35.829Z"
   },
   {
    "duration": 68,
    "start_time": "2023-05-08T09:32:44.333Z"
   },
   {
    "duration": 40,
    "start_time": "2023-05-08T09:34:28.532Z"
   },
   {
    "duration": 35,
    "start_time": "2023-05-08T09:34:56.515Z"
   },
   {
    "duration": 31,
    "start_time": "2023-05-08T09:36:05.537Z"
   },
   {
    "duration": 32,
    "start_time": "2023-05-08T09:36:29.424Z"
   },
   {
    "duration": 33,
    "start_time": "2023-05-08T09:36:41.888Z"
   },
   {
    "duration": 32,
    "start_time": "2023-05-08T09:36:46.071Z"
   },
   {
    "duration": 30,
    "start_time": "2023-05-08T09:36:51.975Z"
   },
   {
    "duration": 27,
    "start_time": "2023-05-08T09:37:19.415Z"
   },
   {
    "duration": 31,
    "start_time": "2023-05-08T09:37:41.085Z"
   },
   {
    "duration": 29,
    "start_time": "2023-05-08T09:38:46.236Z"
   },
   {
    "duration": 35,
    "start_time": "2023-05-08T09:44:13.247Z"
   },
   {
    "duration": 72,
    "start_time": "2023-05-08T09:44:40.180Z"
   },
   {
    "duration": 108,
    "start_time": "2023-05-08T09:45:50.874Z"
   },
   {
    "duration": 151,
    "start_time": "2023-05-08T09:46:30.313Z"
   },
   {
    "duration": 48,
    "start_time": "2023-05-08T09:47:44.295Z"
   },
   {
    "duration": 62,
    "start_time": "2023-05-08T09:47:58.248Z"
   },
   {
    "duration": 52,
    "start_time": "2023-05-08T09:48:05.591Z"
   },
   {
    "duration": 30,
    "start_time": "2023-05-08T09:48:20.023Z"
   },
   {
    "duration": 48,
    "start_time": "2023-05-08T09:48:36.118Z"
   },
   {
    "duration": 58,
    "start_time": "2023-05-08T09:48:56.101Z"
   },
   {
    "duration": 44,
    "start_time": "2023-05-08T09:49:01.206Z"
   },
   {
    "duration": 49,
    "start_time": "2023-05-08T09:49:11.109Z"
   },
   {
    "duration": 38,
    "start_time": "2023-05-08T09:49:15.549Z"
   },
   {
    "duration": 48,
    "start_time": "2023-05-08T09:49:21.302Z"
   },
   {
    "duration": 41,
    "start_time": "2023-05-08T09:49:32.404Z"
   },
   {
    "duration": 32,
    "start_time": "2023-05-08T09:50:18.763Z"
   },
   {
    "duration": 50,
    "start_time": "2023-05-08T09:51:00.362Z"
   },
   {
    "duration": 42,
    "start_time": "2023-05-08T09:52:02.673Z"
   },
   {
    "duration": 48,
    "start_time": "2023-05-08T09:52:56.399Z"
   },
   {
    "duration": 57,
    "start_time": "2023-05-08T09:53:01.632Z"
   },
   {
    "duration": 57,
    "start_time": "2023-05-08T09:53:18.943Z"
   },
   {
    "duration": 43,
    "start_time": "2023-05-08T09:53:38.214Z"
   },
   {
    "duration": 47,
    "start_time": "2023-05-08T09:53:57.150Z"
   },
   {
    "duration": 41,
    "start_time": "2023-05-08T09:54:13.766Z"
   },
   {
    "duration": 32,
    "start_time": "2023-05-08T09:54:28.528Z"
   },
   {
    "duration": 31,
    "start_time": "2023-05-08T09:54:53.957Z"
   },
   {
    "duration": 49,
    "start_time": "2023-05-08T09:55:30.180Z"
   },
   {
    "duration": 51,
    "start_time": "2023-05-08T09:55:48.299Z"
   },
   {
    "duration": 39,
    "start_time": "2023-05-08T09:55:58.339Z"
   },
   {
    "duration": 62,
    "start_time": "2023-05-08T09:56:43.689Z"
   },
   {
    "duration": 58,
    "start_time": "2023-05-08T09:57:25.154Z"
   },
   {
    "duration": 47,
    "start_time": "2023-05-08T09:57:39.895Z"
   },
   {
    "duration": 37,
    "start_time": "2023-05-08T09:58:26.583Z"
   },
   {
    "duration": 80,
    "start_time": "2023-05-08T09:58:58.022Z"
   },
   {
    "duration": 41,
    "start_time": "2023-05-08T09:59:13.190Z"
   },
   {
    "duration": 81,
    "start_time": "2023-05-08T09:59:30.209Z"
   },
   {
    "duration": 39,
    "start_time": "2023-05-08T10:00:26.948Z"
   },
   {
    "duration": 36,
    "start_time": "2023-05-08T10:00:38.843Z"
   },
   {
    "duration": 49,
    "start_time": "2023-05-08T10:00:53.170Z"
   },
   {
    "duration": 48,
    "start_time": "2023-05-08T10:01:02.907Z"
   },
   {
    "duration": 37,
    "start_time": "2023-05-08T10:02:00.834Z"
   },
   {
    "duration": 34,
    "start_time": "2023-05-08T10:04:34.574Z"
   },
   {
    "duration": 37,
    "start_time": "2023-05-08T10:04:42.893Z"
   },
   {
    "duration": 39,
    "start_time": "2023-05-08T10:04:44.812Z"
   },
   {
    "duration": 36,
    "start_time": "2023-05-08T10:04:48.236Z"
   },
   {
    "duration": 88,
    "start_time": "2023-05-08T10:06:40.185Z"
   },
   {
    "duration": 35,
    "start_time": "2023-05-08T10:07:05.865Z"
   },
   {
    "duration": 31,
    "start_time": "2023-05-08T10:07:42.760Z"
   },
   {
    "duration": 36,
    "start_time": "2023-05-08T10:08:26.038Z"
   },
   {
    "duration": 5825,
    "start_time": "2023-05-08T10:28:04.583Z"
   },
   {
    "duration": 30,
    "start_time": "2023-05-08T10:28:10.410Z"
   },
   {
    "duration": 60,
    "start_time": "2023-05-08T10:28:10.443Z"
   },
   {
    "duration": 30,
    "start_time": "2023-05-08T10:28:10.506Z"
   },
   {
    "duration": 34,
    "start_time": "2023-05-08T10:28:10.539Z"
   },
   {
    "duration": 57,
    "start_time": "2023-05-08T10:28:10.575Z"
   },
   {
    "duration": 44,
    "start_time": "2023-05-08T10:31:31.893Z"
   },
   {
    "duration": 80,
    "start_time": "2023-05-08T10:31:37.171Z"
   },
   {
    "duration": 127,
    "start_time": "2023-05-08T10:32:51.513Z"
   },
   {
    "duration": 39,
    "start_time": "2023-05-08T10:33:02.538Z"
   },
   {
    "duration": 32,
    "start_time": "2023-05-08T10:33:17.901Z"
   },
   {
    "duration": 32,
    "start_time": "2023-05-08T10:33:26.249Z"
   },
   {
    "duration": 47,
    "start_time": "2023-05-08T10:34:28.439Z"
   },
   {
    "duration": 48,
    "start_time": "2023-05-08T10:34:34.753Z"
   },
   {
    "duration": 56,
    "start_time": "2023-05-08T10:36:30.108Z"
   },
   {
    "duration": 68,
    "start_time": "2023-05-08T10:36:51.379Z"
   },
   {
    "duration": 59,
    "start_time": "2023-05-08T10:36:55.388Z"
   },
   {
    "duration": 41,
    "start_time": "2023-05-08T10:37:03.534Z"
   },
   {
    "duration": 38,
    "start_time": "2023-05-08T10:37:50.005Z"
   },
   {
    "duration": 31,
    "start_time": "2023-05-08T10:38:42.687Z"
   },
   {
    "duration": 33,
    "start_time": "2023-05-08T10:38:51.707Z"
   },
   {
    "duration": 31,
    "start_time": "2023-05-08T10:39:00.445Z"
   },
   {
    "duration": 48,
    "start_time": "2023-05-08T10:40:14.191Z"
   },
   {
    "duration": 44,
    "start_time": "2023-05-08T10:40:26.777Z"
   },
   {
    "duration": 47,
    "start_time": "2023-05-08T10:42:16.386Z"
   },
   {
    "duration": 45,
    "start_time": "2023-05-08T10:42:33.387Z"
   },
   {
    "duration": 48,
    "start_time": "2023-05-08T10:44:02.763Z"
   },
   {
    "duration": 46,
    "start_time": "2023-05-08T10:44:09.390Z"
   },
   {
    "duration": 86,
    "start_time": "2023-05-08T10:44:16.052Z"
   },
   {
    "duration": 64,
    "start_time": "2023-05-08T10:44:24.953Z"
   },
   {
    "duration": 43,
    "start_time": "2023-05-08T10:44:34.138Z"
   },
   {
    "duration": 66,
    "start_time": "2023-05-08T10:45:27.453Z"
   },
   {
    "duration": 57,
    "start_time": "2023-05-08T10:45:35.673Z"
   },
   {
    "duration": 60,
    "start_time": "2023-05-08T10:46:14.329Z"
   },
   {
    "duration": 45,
    "start_time": "2023-05-08T10:46:31.985Z"
   },
   {
    "duration": 45,
    "start_time": "2023-05-08T10:46:52.159Z"
   },
   {
    "duration": 31,
    "start_time": "2023-05-08T10:47:10.556Z"
   },
   {
    "duration": 32,
    "start_time": "2023-05-08T10:49:36.294Z"
   },
   {
    "duration": 35,
    "start_time": "2023-05-08T10:49:50.409Z"
   },
   {
    "duration": 35,
    "start_time": "2023-05-08T10:52:09.617Z"
   },
   {
    "duration": 30,
    "start_time": "2023-05-08T10:52:56.525Z"
   },
   {
    "duration": 160,
    "start_time": "2023-05-08T11:21:46.171Z"
   },
   {
    "duration": 38,
    "start_time": "2023-05-08T11:21:48.173Z"
   },
   {
    "duration": 6177,
    "start_time": "2023-05-08T11:21:56.044Z"
   },
   {
    "duration": 45,
    "start_time": "2023-05-08T11:22:02.223Z"
   },
   {
    "duration": 51,
    "start_time": "2023-05-08T11:22:02.270Z"
   },
   {
    "duration": 29,
    "start_time": "2023-05-08T11:22:02.323Z"
   },
   {
    "duration": 28,
    "start_time": "2023-05-08T11:22:02.353Z"
   },
   {
    "duration": 34,
    "start_time": "2023-05-08T11:22:02.383Z"
   },
   {
    "duration": 29,
    "start_time": "2023-05-08T11:22:02.419Z"
   },
   {
    "duration": 57,
    "start_time": "2023-05-08T11:26:40.287Z"
   },
   {
    "duration": 128,
    "start_time": "2023-05-08T11:26:49.760Z"
   },
   {
    "duration": 57,
    "start_time": "2023-05-08T11:26:53.245Z"
   },
   {
    "duration": 40,
    "start_time": "2023-05-08T11:26:56.744Z"
   },
   {
    "duration": 31,
    "start_time": "2023-05-08T11:28:10.109Z"
   },
   {
    "duration": 30,
    "start_time": "2023-05-08T11:28:37.902Z"
   },
   {
    "duration": 26,
    "start_time": "2023-05-08T11:29:22.968Z"
   },
   {
    "duration": 30,
    "start_time": "2023-05-08T11:29:37.068Z"
   },
   {
    "duration": 53,
    "start_time": "2023-05-08T11:29:44.541Z"
   },
   {
    "duration": 52,
    "start_time": "2023-05-08T11:29:54.068Z"
   },
   {
    "duration": 6591,
    "start_time": "2023-05-08T11:30:13.991Z"
   },
   {
    "duration": 71,
    "start_time": "2023-05-08T11:30:20.584Z"
   },
   {
    "duration": 30,
    "start_time": "2023-05-08T11:30:20.656Z"
   },
   {
    "duration": 27,
    "start_time": "2023-05-08T11:30:20.689Z"
   },
   {
    "duration": 53,
    "start_time": "2023-05-08T11:30:20.718Z"
   },
   {
    "duration": 29,
    "start_time": "2023-05-08T11:30:20.773Z"
   },
   {
    "duration": 31,
    "start_time": "2023-05-08T11:30:20.804Z"
   },
   {
    "duration": 35,
    "start_time": "2023-05-08T11:30:20.837Z"
   },
   {
    "duration": 30,
    "start_time": "2023-05-08T11:30:20.873Z"
   },
   {
    "duration": 30,
    "start_time": "2023-05-08T11:32:03.477Z"
   },
   {
    "duration": 30,
    "start_time": "2023-05-08T11:32:44.692Z"
   },
   {
    "duration": 28,
    "start_time": "2023-05-08T11:32:53.716Z"
   },
   {
    "duration": 29,
    "start_time": "2023-05-08T11:33:00.485Z"
   },
   {
    "duration": 28,
    "start_time": "2023-05-08T11:33:59.867Z"
   },
   {
    "duration": 28,
    "start_time": "2023-05-08T11:34:25.428Z"
   },
   {
    "duration": 28,
    "start_time": "2023-05-08T11:34:44.625Z"
   },
   {
    "duration": 104,
    "start_time": "2023-05-08T11:35:24.373Z"
   },
   {
    "duration": 38,
    "start_time": "2023-05-08T11:36:26.834Z"
   },
   {
    "duration": 49,
    "start_time": "2023-05-08T11:37:09.606Z"
   },
   {
    "duration": 39,
    "start_time": "2023-05-08T11:37:19.017Z"
   },
   {
    "duration": 31,
    "start_time": "2023-05-08T11:37:48.522Z"
   },
   {
    "duration": 48,
    "start_time": "2023-05-08T11:38:18.595Z"
   },
   {
    "duration": 38,
    "start_time": "2023-05-08T11:38:24.489Z"
   },
   {
    "duration": 30,
    "start_time": "2023-05-08T11:39:04.327Z"
   },
   {
    "duration": 30,
    "start_time": "2023-05-08T11:39:30.127Z"
   },
   {
    "duration": 31,
    "start_time": "2023-05-08T11:39:41.659Z"
   },
   {
    "duration": 49,
    "start_time": "2023-05-08T11:40:33.268Z"
   },
   {
    "duration": 42,
    "start_time": "2023-05-08T11:43:28.746Z"
   },
   {
    "duration": 30,
    "start_time": "2023-05-08T11:43:52.702Z"
   },
   {
    "duration": 47,
    "start_time": "2023-05-08T11:45:53.614Z"
   },
   {
    "duration": 42,
    "start_time": "2023-05-08T11:46:12.920Z"
   },
   {
    "duration": 29,
    "start_time": "2023-05-08T11:47:13.975Z"
   },
   {
    "duration": 30,
    "start_time": "2023-05-08T11:47:26.660Z"
   },
   {
    "duration": 32,
    "start_time": "2023-05-08T11:47:50.515Z"
   },
   {
    "duration": 28,
    "start_time": "2023-05-08T11:51:26.576Z"
   },
   {
    "duration": 52,
    "start_time": "2023-05-08T11:54:02.491Z"
   },
   {
    "duration": 32,
    "start_time": "2023-05-08T11:55:25.889Z"
   },
   {
    "duration": 49,
    "start_time": "2023-05-08T11:57:34.591Z"
   },
   {
    "duration": 5489,
    "start_time": "2023-05-08T11:59:06.688Z"
   },
   {
    "duration": 48,
    "start_time": "2023-05-08T11:59:12.179Z"
   },
   {
    "duration": 29,
    "start_time": "2023-05-08T11:59:12.229Z"
   },
   {
    "duration": 28,
    "start_time": "2023-05-08T11:59:12.260Z"
   },
   {
    "duration": 29,
    "start_time": "2023-05-08T11:59:12.289Z"
   },
   {
    "duration": 28,
    "start_time": "2023-05-08T11:59:12.320Z"
   },
   {
    "duration": 28,
    "start_time": "2023-05-08T11:59:12.350Z"
   },
   {
    "duration": 30,
    "start_time": "2023-05-08T11:59:12.380Z"
   },
   {
    "duration": 31,
    "start_time": "2023-05-08T11:59:12.412Z"
   },
   {
    "duration": 29,
    "start_time": "2023-05-08T11:59:12.445Z"
   },
   {
    "duration": 29,
    "start_time": "2023-05-08T11:59:12.475Z"
   },
   {
    "duration": 30,
    "start_time": "2023-05-08T11:59:12.506Z"
   },
   {
    "duration": 55,
    "start_time": "2023-05-08T11:59:12.538Z"
   },
   {
    "duration": 112,
    "start_time": "2023-05-08T11:59:12.595Z"
   },
   {
    "duration": 0,
    "start_time": "2023-05-08T11:59:12.709Z"
   },
   {
    "duration": 0,
    "start_time": "2023-05-08T11:59:12.711Z"
   },
   {
    "duration": 1,
    "start_time": "2023-05-08T11:59:12.712Z"
   },
   {
    "duration": 10037,
    "start_time": "2023-05-08T13:11:57.136Z"
   },
   {
    "duration": 20,
    "start_time": "2023-05-08T13:12:07.175Z"
   },
   {
    "duration": 9,
    "start_time": "2023-05-08T13:12:07.196Z"
   },
   {
    "duration": 21,
    "start_time": "2023-05-08T13:12:07.207Z"
   },
   {
    "duration": 8,
    "start_time": "2023-05-08T13:12:07.230Z"
   },
   {
    "duration": 9,
    "start_time": "2023-05-08T13:12:07.240Z"
   },
   {
    "duration": 8,
    "start_time": "2023-05-08T13:12:07.250Z"
   },
   {
    "duration": 11,
    "start_time": "2023-05-08T13:12:07.259Z"
   },
   {
    "duration": 12,
    "start_time": "2023-05-08T13:12:07.272Z"
   },
   {
    "duration": 45,
    "start_time": "2023-05-08T13:12:07.286Z"
   },
   {
    "duration": 10,
    "start_time": "2023-05-08T13:12:07.333Z"
   },
   {
    "duration": 12,
    "start_time": "2023-05-08T13:12:07.345Z"
   },
   {
    "duration": 24,
    "start_time": "2023-05-08T13:12:07.359Z"
   },
   {
    "duration": 30,
    "start_time": "2023-05-08T13:12:07.385Z"
   },
   {
    "duration": 18,
    "start_time": "2023-05-08T13:12:07.418Z"
   },
   {
    "duration": 11,
    "start_time": "2023-05-08T13:12:07.438Z"
   },
   {
    "duration": 12,
    "start_time": "2023-05-08T13:12:41.967Z"
   },
   {
    "duration": 92,
    "start_time": "2023-05-08T13:12:57.232Z"
   },
   {
    "duration": 11,
    "start_time": "2023-05-08T13:13:19.945Z"
   },
   {
    "duration": 10,
    "start_time": "2023-05-08T13:17:22.490Z"
   },
   {
    "duration": 9,
    "start_time": "2023-05-08T13:17:42.529Z"
   },
   {
    "duration": 9,
    "start_time": "2023-05-08T13:17:54.640Z"
   },
   {
    "duration": 8,
    "start_time": "2023-05-08T13:18:16.000Z"
   },
   {
    "duration": 21,
    "start_time": "2023-05-08T13:18:22.207Z"
   },
   {
    "duration": 27,
    "start_time": "2023-05-08T13:18:31.608Z"
   },
   {
    "duration": 12,
    "start_time": "2023-05-08T13:20:12.900Z"
   },
   {
    "duration": 9,
    "start_time": "2023-05-08T13:20:17.129Z"
   },
   {
    "duration": 211,
    "start_time": "2023-05-08T13:23:35.483Z"
   },
   {
    "duration": 12,
    "start_time": "2023-05-08T13:24:16.742Z"
   },
   {
    "duration": 99,
    "start_time": "2023-05-08T13:24:51.910Z"
   },
   {
    "duration": 18,
    "start_time": "2023-05-08T13:24:59.234Z"
   },
   {
    "duration": 27,
    "start_time": "2023-05-08T13:25:23.830Z"
   },
   {
    "duration": 11,
    "start_time": "2023-05-08T13:31:07.356Z"
   },
   {
    "duration": 13,
    "start_time": "2023-05-08T13:31:15.629Z"
   },
   {
    "duration": 45,
    "start_time": "2023-05-08T13:31:32.711Z"
   },
   {
    "duration": 15,
    "start_time": "2023-05-08T13:31:39.555Z"
   },
   {
    "duration": 15,
    "start_time": "2023-05-08T13:31:44.563Z"
   },
   {
    "duration": 8,
    "start_time": "2023-05-08T13:39:59.374Z"
   },
   {
    "duration": 20,
    "start_time": "2023-05-08T13:40:20.165Z"
   },
   {
    "duration": 10,
    "start_time": "2023-05-08T13:40:36.923Z"
   },
   {
    "duration": 24,
    "start_time": "2023-05-08T13:40:42.709Z"
   },
   {
    "duration": 14,
    "start_time": "2023-05-08T13:40:51.728Z"
   },
   {
    "duration": 10,
    "start_time": "2023-05-08T13:41:34.173Z"
   },
   {
    "duration": 10,
    "start_time": "2023-05-08T13:41:38.363Z"
   },
   {
    "duration": 10,
    "start_time": "2023-05-08T13:41:42.394Z"
   },
   {
    "duration": 10,
    "start_time": "2023-05-08T13:41:48.027Z"
   },
   {
    "duration": 10,
    "start_time": "2023-05-08T13:41:51.099Z"
   },
   {
    "duration": 9,
    "start_time": "2023-05-08T13:42:06.925Z"
   },
   {
    "duration": 20,
    "start_time": "2023-05-08T13:42:10.378Z"
   },
   {
    "duration": 15,
    "start_time": "2023-05-08T13:42:20.403Z"
   },
   {
    "duration": 13,
    "start_time": "2023-05-08T13:42:23.995Z"
   },
   {
    "duration": 10,
    "start_time": "2023-05-08T13:42:50.925Z"
   },
   {
    "duration": 19,
    "start_time": "2023-05-08T13:43:02.601Z"
   },
   {
    "duration": 10,
    "start_time": "2023-05-08T13:43:08.666Z"
   },
   {
    "duration": 12,
    "start_time": "2023-05-08T13:43:13.025Z"
   },
   {
    "duration": 10,
    "start_time": "2023-05-08T13:46:08.596Z"
   },
   {
    "duration": 10,
    "start_time": "2023-05-08T13:46:13.463Z"
   },
   {
    "duration": 10,
    "start_time": "2023-05-08T13:46:16.523Z"
   },
   {
    "duration": 25,
    "start_time": "2023-05-08T13:46:21.100Z"
   },
   {
    "duration": 30,
    "start_time": "2023-05-08T13:48:37.028Z"
   },
   {
    "duration": 24,
    "start_time": "2023-05-08T13:48:40.126Z"
   },
   {
    "duration": 23,
    "start_time": "2023-05-08T13:49:38.471Z"
   },
   {
    "duration": 24,
    "start_time": "2023-05-08T13:49:56.934Z"
   },
   {
    "duration": 25,
    "start_time": "2023-05-08T13:50:15.677Z"
   },
   {
    "duration": 35,
    "start_time": "2023-05-08T13:50:29.216Z"
   },
   {
    "duration": 21,
    "start_time": "2023-05-08T13:50:34.448Z"
   },
   {
    "duration": 28,
    "start_time": "2023-05-08T13:50:39.999Z"
   },
   {
    "duration": 21,
    "start_time": "2023-05-08T13:50:59.629Z"
   },
   {
    "duration": 35,
    "start_time": "2023-05-08T13:51:03.614Z"
   },
   {
    "duration": 17,
    "start_time": "2023-05-08T13:51:12.276Z"
   },
   {
    "duration": 304,
    "start_time": "2023-05-08T13:51:18.133Z"
   },
   {
    "duration": 26,
    "start_time": "2023-05-08T13:51:26.528Z"
   },
   {
    "duration": 36,
    "start_time": "2023-05-08T13:51:39.308Z"
   },
   {
    "duration": 18,
    "start_time": "2023-05-08T13:51:55.980Z"
   },
   {
    "duration": 19,
    "start_time": "2023-05-08T13:52:00.443Z"
   },
   {
    "duration": 23,
    "start_time": "2023-05-08T13:52:41.250Z"
   },
   {
    "duration": 229,
    "start_time": "2023-05-08T13:52:51.953Z"
   },
   {
    "duration": 36,
    "start_time": "2023-05-08T13:53:50.001Z"
   },
   {
    "duration": 23,
    "start_time": "2023-05-08T13:55:04.899Z"
   },
   {
    "duration": 19,
    "start_time": "2023-05-08T13:55:16.006Z"
   },
   {
    "duration": 11,
    "start_time": "2023-05-08T13:56:49.499Z"
   },
   {
    "duration": 20,
    "start_time": "2023-05-08T13:57:58.426Z"
   },
   {
    "duration": 19,
    "start_time": "2023-05-08T13:58:14.210Z"
   },
   {
    "duration": 20,
    "start_time": "2023-05-08T13:59:00.040Z"
   },
   {
    "duration": 21,
    "start_time": "2023-05-08T13:59:03.082Z"
   },
   {
    "duration": 22,
    "start_time": "2023-05-08T13:59:12.401Z"
   },
   {
    "duration": 14,
    "start_time": "2023-05-08T13:59:48.632Z"
   },
   {
    "duration": 1263,
    "start_time": "2023-05-08T13:59:55.527Z"
   },
   {
    "duration": 11,
    "start_time": "2023-05-08T14:00:05.530Z"
   },
   {
    "duration": 11,
    "start_time": "2023-05-08T14:00:16.438Z"
   },
   {
    "duration": 9,
    "start_time": "2023-05-08T14:02:47.634Z"
   },
   {
    "duration": 10,
    "start_time": "2023-05-08T14:02:50.426Z"
   },
   {
    "duration": 10,
    "start_time": "2023-05-08T14:02:57.561Z"
   },
   {
    "duration": 10,
    "start_time": "2023-05-08T14:02:59.137Z"
   },
   {
    "duration": 21,
    "start_time": "2023-05-08T14:03:03.641Z"
   },
   {
    "duration": 13,
    "start_time": "2023-05-08T14:03:07.443Z"
   },
   {
    "duration": 21,
    "start_time": "2023-05-08T14:04:00.568Z"
   },
   {
    "duration": 30,
    "start_time": "2023-05-08T14:04:05.969Z"
   },
   {
    "duration": 20,
    "start_time": "2023-05-08T14:04:55.039Z"
   },
   {
    "duration": 24,
    "start_time": "2023-05-08T14:05:04.103Z"
   },
   {
    "duration": 25,
    "start_time": "2023-05-08T14:05:14.830Z"
   },
   {
    "duration": 20,
    "start_time": "2023-05-08T14:05:38.221Z"
   },
   {
    "duration": 21,
    "start_time": "2023-05-08T14:05:47.933Z"
   },
   {
    "duration": 26,
    "start_time": "2023-05-08T14:05:58.831Z"
   },
   {
    "duration": 21,
    "start_time": "2023-05-08T14:06:08.085Z"
   },
   {
    "duration": 20,
    "start_time": "2023-05-08T14:06:11.581Z"
   },
   {
    "duration": 26,
    "start_time": "2023-05-08T14:06:45.541Z"
   },
   {
    "duration": 20,
    "start_time": "2023-05-08T14:06:56.688Z"
   },
   {
    "duration": 20,
    "start_time": "2023-05-08T14:07:02.892Z"
   },
   {
    "duration": 28,
    "start_time": "2023-05-08T14:07:10.212Z"
   },
   {
    "duration": 33,
    "start_time": "2023-05-08T14:08:09.402Z"
   },
   {
    "duration": 11,
    "start_time": "2023-05-08T14:09:04.552Z"
   },
   {
    "duration": 27,
    "start_time": "2023-05-08T14:09:46.144Z"
   },
   {
    "duration": 11,
    "start_time": "2023-05-08T14:09:52.391Z"
   },
   {
    "duration": 23,
    "start_time": "2023-05-08T14:11:47.005Z"
   },
   {
    "duration": 22,
    "start_time": "2023-05-08T14:13:03.731Z"
   },
   {
    "duration": 12,
    "start_time": "2023-05-08T14:13:07.115Z"
   },
   {
    "duration": 259,
    "start_time": "2023-05-08T14:13:50.908Z"
   },
   {
    "duration": 19,
    "start_time": "2023-05-08T14:14:14.832Z"
   },
   {
    "duration": 54,
    "start_time": "2023-05-08T14:14:22.800Z"
   },
   {
    "duration": 26,
    "start_time": "2023-05-08T14:14:34.513Z"
   },
   {
    "duration": 21,
    "start_time": "2023-05-08T14:14:50.592Z"
   },
   {
    "duration": 78,
    "start_time": "2023-05-08T14:14:59.672Z"
   },
   {
    "duration": 18,
    "start_time": "2023-05-08T14:15:38.047Z"
   },
   {
    "duration": 26,
    "start_time": "2023-05-08T14:15:58.266Z"
   },
   {
    "duration": 211,
    "start_time": "2023-05-08T14:16:07.637Z"
   },
   {
    "duration": 21,
    "start_time": "2023-05-08T14:16:22.423Z"
   },
   {
    "duration": 18,
    "start_time": "2023-05-08T14:16:43.989Z"
   },
   {
    "duration": 31,
    "start_time": "2023-05-08T14:17:09.811Z"
   },
   {
    "duration": 269,
    "start_time": "2023-05-08T14:17:26.323Z"
   },
   {
    "duration": 20,
    "start_time": "2023-05-08T14:17:48.787Z"
   },
   {
    "duration": 29,
    "start_time": "2023-05-08T14:17:52.259Z"
   },
   {
    "duration": 261,
    "start_time": "2023-05-08T14:18:26.313Z"
   },
   {
    "duration": 28,
    "start_time": "2023-05-08T14:19:05.476Z"
   },
   {
    "duration": 23,
    "start_time": "2023-05-08T14:19:43.704Z"
   },
   {
    "duration": 10,
    "start_time": "2023-05-08T14:21:00.333Z"
   },
   {
    "duration": 11,
    "start_time": "2023-05-08T14:21:04.645Z"
   },
   {
    "duration": 10,
    "start_time": "2023-05-08T14:21:06.781Z"
   },
   {
    "duration": 28,
    "start_time": "2023-05-08T14:22:10.052Z"
   },
   {
    "duration": 27,
    "start_time": "2023-05-08T14:22:22.980Z"
   },
   {
    "duration": 12,
    "start_time": "2023-05-08T14:30:08.088Z"
   },
   {
    "duration": 79,
    "start_time": "2023-05-08T14:30:44.374Z"
   },
   {
    "duration": 11,
    "start_time": "2023-05-08T14:30:53.278Z"
   },
   {
    "duration": 13,
    "start_time": "2023-05-08T14:31:14.284Z"
   },
   {
    "duration": 9,
    "start_time": "2023-05-08T14:31:17.415Z"
   },
   {
    "duration": 10,
    "start_time": "2023-05-08T14:31:19.948Z"
   },
   {
    "duration": 11,
    "start_time": "2023-05-08T14:35:10.742Z"
   },
   {
    "duration": 8977,
    "start_time": "2023-05-08T15:04:02.273Z"
   },
   {
    "duration": 20,
    "start_time": "2023-05-08T15:04:11.254Z"
   },
   {
    "duration": 9,
    "start_time": "2023-05-08T15:04:11.276Z"
   },
   {
    "duration": 10,
    "start_time": "2023-05-08T15:04:11.287Z"
   },
   {
    "duration": 28,
    "start_time": "2023-05-08T15:04:11.299Z"
   },
   {
    "duration": 10,
    "start_time": "2023-05-08T15:04:11.329Z"
   },
   {
    "duration": 10,
    "start_time": "2023-05-08T15:04:11.341Z"
   },
   {
    "duration": 15,
    "start_time": "2023-05-08T15:04:11.353Z"
   },
   {
    "duration": 16,
    "start_time": "2023-05-08T15:04:11.370Z"
   },
   {
    "duration": 29,
    "start_time": "2023-05-08T15:04:11.389Z"
   },
   {
    "duration": 22,
    "start_time": "2023-05-08T15:04:11.419Z"
   },
   {
    "duration": 11,
    "start_time": "2023-05-08T15:04:11.442Z"
   },
   {
    "duration": 10,
    "start_time": "2023-05-08T15:04:11.455Z"
   },
   {
    "duration": 28,
    "start_time": "2023-05-08T15:04:11.466Z"
   },
   {
    "duration": 19,
    "start_time": "2023-05-08T15:04:11.496Z"
   },
   {
    "duration": 23,
    "start_time": "2023-05-08T15:04:11.517Z"
   },
   {
    "duration": 16,
    "start_time": "2023-05-08T15:04:11.542Z"
   },
   {
    "duration": 13,
    "start_time": "2023-05-08T15:04:11.560Z"
   },
   {
    "duration": 10220,
    "start_time": "2023-05-08T15:09:27.028Z"
   },
   {
    "duration": 21,
    "start_time": "2023-05-08T15:09:37.250Z"
   },
   {
    "duration": 9,
    "start_time": "2023-05-08T15:09:37.273Z"
   },
   {
    "duration": 10,
    "start_time": "2023-05-08T15:09:37.284Z"
   },
   {
    "duration": 19,
    "start_time": "2023-05-08T15:09:37.296Z"
   },
   {
    "duration": 35,
    "start_time": "2023-05-08T15:09:37.317Z"
   },
   {
    "duration": 10,
    "start_time": "2023-05-08T15:09:37.354Z"
   },
   {
    "duration": 11,
    "start_time": "2023-05-08T15:09:37.365Z"
   },
   {
    "duration": 18,
    "start_time": "2023-05-08T15:09:37.378Z"
   },
   {
    "duration": 11,
    "start_time": "2023-05-08T15:09:37.398Z"
   },
   {
    "duration": 31,
    "start_time": "2023-05-08T15:09:37.416Z"
   },
   {
    "duration": 8,
    "start_time": "2023-05-08T15:09:37.449Z"
   },
   {
    "duration": 10,
    "start_time": "2023-05-08T15:09:37.458Z"
   },
   {
    "duration": 27,
    "start_time": "2023-05-08T15:09:37.471Z"
   },
   {
    "duration": 36,
    "start_time": "2023-05-08T15:09:37.500Z"
   },
   {
    "duration": 10,
    "start_time": "2023-05-08T15:09:37.538Z"
   },
   {
    "duration": 16,
    "start_time": "2023-05-08T15:09:37.550Z"
   },
   {
    "duration": 10,
    "start_time": "2023-05-08T15:09:37.568Z"
   },
   {
    "duration": 26222,
    "start_time": "2023-05-10T10:04:52.099Z"
   },
   {
    "duration": 48,
    "start_time": "2023-05-10T10:05:18.324Z"
   },
   {
    "duration": 29,
    "start_time": "2023-05-10T10:05:18.373Z"
   },
   {
    "duration": 29,
    "start_time": "2023-05-10T10:05:18.404Z"
   },
   {
    "duration": 29,
    "start_time": "2023-05-10T10:05:18.434Z"
   },
   {
    "duration": 28,
    "start_time": "2023-05-10T10:05:18.465Z"
   },
   {
    "duration": 28,
    "start_time": "2023-05-10T10:05:18.494Z"
   },
   {
    "duration": 30,
    "start_time": "2023-05-10T10:05:18.523Z"
   },
   {
    "duration": 32,
    "start_time": "2023-05-10T10:05:18.555Z"
   },
   {
    "duration": 29,
    "start_time": "2023-05-10T10:05:18.590Z"
   },
   {
    "duration": 31,
    "start_time": "2023-05-10T10:05:18.620Z"
   },
   {
    "duration": 227,
    "start_time": "2023-05-10T10:05:18.653Z"
   },
   {
    "duration": 29,
    "start_time": "2023-05-10T10:05:18.883Z"
   },
   {
    "duration": 31,
    "start_time": "2023-05-10T10:05:18.914Z"
   },
   {
    "duration": 65,
    "start_time": "2023-05-10T10:05:18.947Z"
   },
   {
    "duration": 42,
    "start_time": "2023-05-10T10:05:19.013Z"
   },
   {
    "duration": 36,
    "start_time": "2023-05-10T10:06:19.157Z"
   },
   {
    "duration": 21332,
    "start_time": "2023-05-10T10:07:32.645Z"
   },
   {
    "duration": 47,
    "start_time": "2023-05-10T10:07:53.979Z"
   },
   {
    "duration": 28,
    "start_time": "2023-05-10T10:07:54.028Z"
   },
   {
    "duration": 42,
    "start_time": "2023-05-10T10:07:54.059Z"
   },
   {
    "duration": 33,
    "start_time": "2023-05-10T10:07:54.103Z"
   },
   {
    "duration": 28,
    "start_time": "2023-05-10T10:07:54.138Z"
   },
   {
    "duration": 28,
    "start_time": "2023-05-10T10:07:54.168Z"
   },
   {
    "duration": 83,
    "start_time": "2023-05-10T10:07:54.198Z"
   },
   {
    "duration": 44,
    "start_time": "2023-05-10T10:07:54.282Z"
   },
   {
    "duration": 30,
    "start_time": "2023-05-10T10:07:54.329Z"
   },
   {
    "duration": 34,
    "start_time": "2023-05-10T10:07:54.361Z"
   },
   {
    "duration": 215,
    "start_time": "2023-05-10T10:07:54.397Z"
   },
   {
    "duration": 29,
    "start_time": "2023-05-10T10:07:54.614Z"
   },
   {
    "duration": 31,
    "start_time": "2023-05-10T10:07:54.644Z"
   },
   {
    "duration": 76,
    "start_time": "2023-05-10T10:07:54.676Z"
   },
   {
    "duration": 38,
    "start_time": "2023-05-10T10:07:54.753Z"
   },
   {
    "duration": 31,
    "start_time": "2023-05-10T10:07:54.793Z"
   },
   {
    "duration": 34,
    "start_time": "2023-05-10T10:07:54.826Z"
   },
   {
    "duration": 30,
    "start_time": "2023-05-10T10:07:54.862Z"
   }
  ],
  "kernelspec": {
   "display_name": "Python 3 (ipykernel)",
   "language": "python",
   "name": "python3"
  },
  "language_info": {
   "codemirror_mode": {
    "name": "ipython",
    "version": 3
   },
   "file_extension": ".py",
   "mimetype": "text/x-python",
   "name": "python",
   "nbconvert_exporter": "python",
   "pygments_lexer": "ipython3",
   "version": "3.9.13"
  },
  "toc": {
   "base_numbering": 1,
   "nav_menu": {},
   "number_sections": true,
   "sideBar": true,
   "skip_h1_title": true,
   "title_cell": "Содержание",
   "title_sidebar": "Contents",
   "toc_cell": true,
   "toc_position": {
    "height": "calc(100% - 180px)",
    "left": "10px",
    "top": "150px",
    "width": "303.542px"
   },
   "toc_section_display": true,
   "toc_window_display": false
  }
 },
 "nbformat": 4,
 "nbformat_minor": 2
}
